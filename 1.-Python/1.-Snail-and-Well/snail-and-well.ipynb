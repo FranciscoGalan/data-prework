{
 "cells": [
  {
   "cell_type": "markdown",
   "metadata": {},
   "source": [
    "<img src=\"https://bit.ly/2VnXWr2\" width=\"100\" align=\"left\">"
   ]
  },
  {
   "cell_type": "markdown",
   "metadata": {},
   "source": [
    "# The Snail and the Well\n",
    "\n",
    "A snail falls at the bottom of a 125 cm well. Each day the snail rises 30 cm. But at night, while sleeping, slides 20 cm because the walls are wet. How many days does it take for the snail to escape the well?\n",
    "\n",
    "**Hint**: The snail gets out of the well when it surpasses the 125cm of height.\n",
    "\n",
    "## Tools\n",
    "\n",
    "1. Loop: **while**\n",
    "2. Conditional statements: **if-else**\n",
    "3. Function: **print()**\n",
    "\n",
    "## Tasks\n",
    "\n",
    "#### 1. Assign the challenge data to variables with representative names: `well_height`, `daily_distance`, `nightly_distance` and `snail_position`."
   ]
  },
  {
   "cell_type": "code",
   "execution_count": 1,
   "metadata": {},
   "outputs": [],
   "source": [
    "well_height = 125\n",
    "daily_distance = 30\n",
    "nightly_distance = 25\n",
    "snail_position = 0"
   ]
  },
  {
   "cell_type": "markdown",
   "metadata": {},
   "source": [
    "#### 2. Create a variable `days` to keep count of the days that pass until the snail escapes the well. "
   ]
  },
  {
   "cell_type": "code",
   "execution_count": 2,
   "metadata": {},
   "outputs": [],
   "source": [
    "days = 0"
   ]
  },
  {
   "cell_type": "markdown",
   "metadata": {},
   "source": [
    "#### 3. Find the solution to the challenge using the variables defined above. "
   ]
  },
  {
   "cell_type": "code",
   "execution_count": 3,
   "metadata": {},
   "outputs": [
    {
     "name": "stdout",
     "output_type": "stream",
     "text": [
      "Day 1 | Position: 5\n",
      "Day 2 | Position: 10\n",
      "Day 3 | Position: 15\n",
      "Day 4 | Position: 20\n",
      "Day 5 | Position: 25\n",
      "Day 6 | Position: 30\n",
      "Day 7 | Position: 35\n",
      "Day 8 | Position: 40\n",
      "Day 9 | Position: 45\n",
      "Day 10 | Position: 50\n",
      "Day 11 | Position: 55\n",
      "Day 12 | Position: 60\n",
      "Day 13 | Position: 65\n",
      "Day 14 | Position: 70\n",
      "Day 15 | Position: 75\n",
      "Day 16 | Position: 80\n",
      "Day 17 | Position: 85\n",
      "Day 18 | Position: 90\n",
      "Day 19 | Position: 95\n",
      "Day 20 | Position: 125\n"
     ]
    }
   ],
   "source": [
    "while snail_position < well_height:\n",
    "    days += 1\n",
    "    snail_position += daily_distance\n",
    "    \n",
    "    if snail_position >= well_height:\n",
    "        break\n",
    "    \n",
    "    snail_position-= nightly_distance\n",
    "    print(f'Day {days} | Position: {snail_position}')\n",
    "        \n",
    "print(f'Day {days} | Position: {snail_position}')"
   ]
  },
  {
   "cell_type": "markdown",
   "metadata": {},
   "source": [
    "#### 4. Print the solution."
   ]
  },
  {
   "cell_type": "code",
   "execution_count": 4,
   "metadata": {},
   "outputs": [
    {
     "name": "stdout",
     "output_type": "stream",
     "text": [
      "Day 20 | Position: 125\n"
     ]
    }
   ],
   "source": [
    "print(f'Day {days} | Position: {snail_position}')"
   ]
  },
  {
   "cell_type": "markdown",
   "metadata": {},
   "source": [
    "## Bonus\n",
    "The distance traveled by the snail each day is now defined by a list.\n",
    "```\n",
    "advance_cm = [30, 21, 33, 77, 44, 45, 23, 45, 12, 34, 55]\n",
    "```\n",
    "On the first day, the snail rises 30cm but during the night it slides 20cm. On the second day, the snail rises 21cm but during the night it slides 20cm, and so on. \n",
    "\n",
    "#### 1. How many days does it take for the snail to escape the well?\n",
    "Follow the same guidelines as in the previous challenge.\n",
    "\n",
    "**Hint**: Remember that the snail gets out of the well when it surpasses the 125cm of height."
   ]
  },
  {
   "cell_type": "code",
   "execution_count": 5,
   "metadata": {},
   "outputs": [
    {
     "name": "stdout",
     "output_type": "stream",
     "text": [
      "Day: 1 | Position: 10\n",
      "Day: 2 | Position: 11\n",
      "Day: 3 | Position: 24\n",
      "Day: 4 | Position: 81\n",
      "Day: 5 | Position: 125\n"
     ]
    }
   ],
   "source": [
    "# Reset variables\n",
    "advance_cm = [30, 21, 33, 77, 44, 45, 23, 45, 12, 34, 55]\n",
    "well_height = 125\n",
    "nightly_distance = 20\n",
    "days = 0\n",
    "snail_position = 0\n",
    "\n",
    "# Solution\n",
    "for advance in advance_cm:\n",
    "    if snail_position < well_height:\n",
    "        days += 1\n",
    "        snail_position += advance\n",
    "    \n",
    "        if snail_position < well_height:\n",
    "            snail_position -= nightly_distance\n",
    "            print(f'Day: {days} | Position: {snail_position}')\n",
    "\n",
    "print(f'Day: {days} | Position: {snail_position}')"
   ]
  },
  {
   "cell_type": "markdown",
   "metadata": {},
   "source": [
    "#### 2. What is its maximum displacement in one day? And its minimum? Calculate the displacement using only the travel distance of the days used to get out of the well. \n",
    "**Hint**: Remember that displacement means the total distance risen taking into account that the snail slides at night.  "
   ]
  },
  {
   "cell_type": "code",
   "execution_count": 6,
   "metadata": {
    "scrolled": true
   },
   "outputs": [
    {
     "name": "stdout",
     "output_type": "stream",
     "text": [
      "Max displacement: 57\n",
      "Min displacement: 1\n"
     ]
    }
   ],
   "source": [
    "print('Max displacement:', max(advance_cm[:5]) - nightly_distance)\n",
    "\n",
    "print('Min displacement:', min(advance_cm[:5]) - nightly_distance)"
   ]
  },
  {
   "cell_type": "markdown",
   "metadata": {},
   "source": [
    "#### 3. What is its average progress? Take into account the snail slides at night."
   ]
  },
  {
   "cell_type": "code",
   "execution_count": 7,
   "metadata": {},
   "outputs": [
    {
     "name": "stdout",
     "output_type": "stream",
     "text": [
      "Average: 21.0\n"
     ]
    }
   ],
   "source": [
    "daily_displacement = []\n",
    "\n",
    "for advance in advance_cm[:5]:\n",
    "    displacement = advance - nightly_distance\n",
    "    daily_displacement.append(displacement)\n",
    "\n",
    "average_displacement = sum(daily_displacement)/len(daily_displacement) \n",
    "    \n",
    "print('Average:',average_displacement)"
   ]
  },
  {
   "cell_type": "markdown",
   "metadata": {},
   "source": [
    "#### 4. What is the standard deviation of its displacement? Take into account the snail slides at night."
   ]
  },
  {
   "cell_type": "code",
   "execution_count": 8,
   "metadata": {},
   "outputs": [
    {
     "name": "stdout",
     "output_type": "stream",
     "text": [
      "27.892651361962706\n"
     ]
    }
   ],
   "source": [
    "#Calculate variance\n",
    "squared = []\n",
    "\n",
    "for advance in advance_cm[:5]:\n",
    "        number = (advance - average_displacement)**2\n",
    "        squared.append(number)\n",
    "        \n",
    "variance = sum(squared)/len(squared)\n",
    "\n",
    "#Calculate standard deviation\n",
    "standard_deviation = variance**(1/2)\n",
    "print(standard_deviation)"
   ]
  }
 ],
 "metadata": {
  "kernelspec": {
   "display_name": "Python 3",
   "language": "python",
   "name": "python3"
  },
  "language_info": {
   "codemirror_mode": {
    "name": "ipython",
    "version": 3
   },
   "file_extension": ".py",
   "mimetype": "text/x-python",
   "name": "python",
   "nbconvert_exporter": "python",
   "pygments_lexer": "ipython3",
   "version": "3.8.3"
  }
 },
 "nbformat": 4,
 "nbformat_minor": 2
}
