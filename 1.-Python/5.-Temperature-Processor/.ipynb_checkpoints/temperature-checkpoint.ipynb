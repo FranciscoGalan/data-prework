{
 "cells": [
  {
   "cell_type": "markdown",
   "metadata": {},
   "source": [
    "<img src=\"https://bit.ly/2VnXWr2\" width=\"100\" align=\"left\">"
   ]
  },
  {
   "cell_type": "markdown",
   "metadata": {},
   "source": [
    "# Temperature Sensor\n",
    "\n",
    "There is a temperature sensor in the processor of your company's server. The company wants to analyze the data provided by the sensor to decide if they should change the cooling system for a better one. As changing the cooling system is expensive and you are an excellent data analyst, you can't make a decision without basis.\n",
    "\n",
    "## Tools\n",
    "You don't necessarily need to use all the tools. Maybe you opt to use some of them or completely different ones, they are given to help you shape the exercise. Programming exercises can be solved in many different ways.\n",
    "1. Data structures: **lists**\n",
    "2. Loops: **list comprehension**\n",
    "3. Functions: **min, max, print, len**\n",
    "4. Conditional statements: **if-elif-else**\n",
    "\n",
    "## Tasks\n",
    "The temperatures measured throughout the 24 hours of a day are:"
   ]
  },
  {
   "cell_type": "code",
   "execution_count": 3,
   "metadata": {},
   "outputs": [],
   "source": [
    "temperatures_C = [33, 66, 65, 0, 59, 60, 62, 64, 70, 76, 80, 81, 80, 83, 90, 79, 61, 53, 50, 49, 53, 48, 45, 39]"
   ]
  },
  {
   "cell_type": "markdown",
   "metadata": {},
   "source": [
    "The first element of the list is the temperature at 12am, the second element is the temperature at 1am, and so on. \n",
    "\n",
    "The company has decided that if one of the following events occurs, then the cooling system needs to be replaced for a new one to avoid damaging the processor.\n",
    "* More than 4 temperatures are greater than or equal to 70ºC.\n",
    "* Any temperature is above 80ºC.\n",
    "* The average temperature exceeds 65ºC.\n",
    "\n",
    "Follow the steps so that you can make the decision.\n",
    "\n",
    "#### 1. Find the minimum temperature of the day and store it in a variable."
   ]
  },
  {
   "cell_type": "code",
   "execution_count": 5,
   "metadata": {},
   "outputs": [
    {
     "data": {
      "text/plain": [
       "0"
      ]
     },
     "execution_count": 5,
     "metadata": {},
     "output_type": "execute_result"
    }
   ],
   "source": [
    "min_temp = min(temperatures_C)\n",
    "min_temp"
   ]
  },
  {
   "cell_type": "markdown",
   "metadata": {},
   "source": [
    "#### 2. Find the maximum temperature of the day and store it in a variable."
   ]
  },
  {
   "cell_type": "code",
   "execution_count": 6,
   "metadata": {},
   "outputs": [
    {
     "data": {
      "text/plain": [
       "90"
      ]
     },
     "execution_count": 6,
     "metadata": {},
     "output_type": "execute_result"
    }
   ],
   "source": [
    "max_temp = max(temperatures_C)\n",
    "max_temp"
   ]
  },
  {
   "cell_type": "markdown",
   "metadata": {},
   "source": [
    "#### 3. Create a list with the temperatures that are greater than or equal to 70ºC. Store it in a variable."
   ]
  },
  {
   "cell_type": "code",
   "execution_count": 37,
   "metadata": {},
   "outputs": [
    {
     "data": {
      "text/plain": [
       "[70, 76, 80, 81, 80, 83, 90, 79]"
      ]
     },
     "execution_count": 37,
     "metadata": {},
     "output_type": "execute_result"
    }
   ],
   "source": [
    "temp_70plus = []\n",
    "\n",
    "for temp in temperatures_C:\n",
    "    if temp >= 70:\n",
    "        temp_70plus.append(temp)\n",
    "\n",
    "temp_70plus"
   ]
  },
  {
   "cell_type": "markdown",
   "metadata": {},
   "source": [
    "#### 4. Find the average temperature of the day and store it in a variable."
   ]
  },
  {
   "cell_type": "code",
   "execution_count": 9,
   "metadata": {},
   "outputs": [
    {
     "data": {
      "text/plain": [
       "60.25"
      ]
     },
     "execution_count": 9,
     "metadata": {},
     "output_type": "execute_result"
    }
   ],
   "source": [
    "avg_temp = sum(temperatures_C) / len(temperatures_C)\n",
    "avg_temp"
   ]
  },
  {
   "cell_type": "markdown",
   "metadata": {},
   "source": [
    "#### 5. Imagine that there was a sensor failure at 3am and the data for that specific hour was not recorded. How would you estimate the missing value? Replace the current value of the list at 3am for an estimation. "
   ]
  },
  {
   "cell_type": "code",
   "execution_count": 14,
   "metadata": {},
   "outputs": [
    {
     "name": "stdout",
     "output_type": "stream",
     "text": [
      "Previous temp at 3am: 62.0\n",
      "New temp at 3am: 62\n"
     ]
    }
   ],
   "source": [
    "# To estimate the missing value, I would average the \n",
    "# two closest temperatures: 2am and 4am. \n",
    "\n",
    "print('Previous temp at 3am:', temperatures_C[3])\n",
    "\n",
    "temperatures_C[3] = (temperatures_C[2] + temperatures_C[4]) / 2\n",
    "temperatures_C[3] = round(temperatures_C[3])\n",
    "print('New temp at 3am:', temperatures_C[3])"
   ]
  },
  {
   "cell_type": "markdown",
   "metadata": {},
   "source": [
    "#### 6. Bonus: the maintenance staff is from the United States and does not understand the international metric system. Help them by converting the temperatures from Celsius to Fahrenheit.\n",
    "To know more about temperature conversion check this [link](https://en.wikipedia.org/wiki/Conversion_of_units_of_temperature).\n",
    "\n",
    "**Formula**: \n",
    "\n",
    "$F = 1.8 * C + 32$"
   ]
  },
  {
   "cell_type": "code",
   "execution_count": 13,
   "metadata": {},
   "outputs": [
    {
     "name": "stdout",
     "output_type": "stream",
     "text": [
      "[91, 151, 149, 144, 138, 140, 144, 147, 158, 169, 176, 178, 176, 181, 194, 174, 142, 127, 122, 120, 127, 118, 113, 102]\n"
     ]
    }
   ],
   "source": [
    "temperatures_F = []\n",
    "\n",
    "for temp in temperatures_C:\n",
    "    temp_F = round(1.8 * temp + 32)\n",
    "    temperatures_F.append(temp_F)\n",
    "    \n",
    "print(temperatures_F)"
   ]
  },
  {
   "cell_type": "markdown",
   "metadata": {},
   "source": [
    "#### 7. Make a decision!\n",
    "Now it's time to make a decision taking into account what you have seen until now. \n",
    "\n",
    "Remember that if one of the following events occurs, then the cooling system needs to be replaced for a new one to avoid damaging the processor.\n",
    "* More than 4 temperatures are greater than or equal to 70ºC.\n",
    "* Any temperature is above 80ºC.\n",
    "* The average temperature exceeds 65ºC.\n",
    "\n",
    "#### To make your decision, check if any of the three conditions above is met. You might need to use some of the variables you created in steps 1 to 6. Print a message to show if the cooling system needs to be changed or not."
   ]
  },
  {
   "cell_type": "code",
   "execution_count": 29,
   "metadata": {},
   "outputs": [
    {
     "name": "stdout",
     "output_type": "stream",
     "text": [
      "Condition 1 pass? False\n",
      "Condition 2 pass? False\n",
      "Condition 3 pass? True\n",
      "Decision: Since two of the three conditions were not met, we should replace the cooling system\n"
     ]
    }
   ],
   "source": [
    "# Check condition 1 (More than 4 temperatures are greater than or equal to 70ºC)\n",
    "condition_1 = not(len(temp_70plus) > 4)   \n",
    "print('Condition 1 pass?', condition_1)\n",
    "\n",
    "\n",
    "# Check condition 2 (Any temperature is above 80ºC.)\n",
    "plus80 = 0\n",
    "\n",
    "for temp in temperatures_C:\n",
    "    if temp < 80:\n",
    "        plus80 += 1\n",
    "\n",
    "condition_2 = not(plus80 > 0)\n",
    "print('Condition 2 pass?', condition_2)\n",
    "\n",
    "\n",
    "# Check condition 3 (The average temperature exceeds 65ºC.)\n",
    "condition_3 = not(avg_temp > 65)\n",
    "print('Condition 3 pass?', condition_3)\n",
    "\n",
    "\n",
    "# Decision\n",
    "print('Decision: Since two of the three conditions were not ' \n",
    "      'met, we should replace the cooling system')\n"
   ]
  },
  {
   "cell_type": "markdown",
   "metadata": {},
   "source": [
    "## Bonus\n",
    "\n",
    "The company has decided that the decision you made is not valid. They want you to analyze the data again but this time, the conditions that need to be met in order to change the cooling system are different.\n",
    "\n",
    "This time, if one of the following events occurs, then the cooling system needs to be replaced:\n",
    "* The temperature is greater than 70ºC during more than 4 consecutive hours.\n",
    "* Any temperature is above 80ºC.\n",
    "* The average temperature exceeds 65ºC.\n",
    "\n",
    "Follow the steps so that you can make the decision.\n",
    "\n",
    "#### 1. Create a list with the hours where the temperature is greater than 70ºC. Store it in a variable."
   ]
  },
  {
   "cell_type": "code",
   "execution_count": 38,
   "metadata": {},
   "outputs": [
    {
     "data": {
      "text/plain": [
       "[70, 76, 80, 81, 80, 83, 90, 79]"
      ]
     },
     "execution_count": 38,
     "metadata": {},
     "output_type": "execute_result"
    }
   ],
   "source": [
    "temp_70plus"
   ]
  },
  {
   "cell_type": "markdown",
   "metadata": {},
   "source": [
    "#### 2. Check if the list you created in step 1 has more than 4 consecutive hours. "
   ]
  },
  {
   "cell_type": "code",
   "execution_count": 39,
   "metadata": {},
   "outputs": [
    {
     "name": "stdout",
     "output_type": "stream",
     "text": [
      "- 8\n",
      "- 9\n",
      "- 10\n",
      "- 11\n",
      "- 10\n",
      "- 13\n",
      "- 14\n",
      "- 15\n"
     ]
    }
   ],
   "source": [
    "for temp in temp_70plus:\n",
    "    print('-', temperatures_C.index(temp))"
   ]
  },
  {
   "cell_type": "markdown",
   "metadata": {},
   "source": [
    "#### 3. Make the decision!\n",
    "To make your decision, check if any of the three conditions is met. Print a message to show if the cooling system needs to be changed or not."
   ]
  },
  {
   "cell_type": "code",
   "execution_count": 43,
   "metadata": {},
   "outputs": [
    {
     "name": "stdout",
     "output_type": "stream",
     "text": [
      "Condition 1 met? False\n",
      "Condition 2 met? False\n",
      "Condition 3 met? True\n",
      "Decision: Since two of the three conditions were not met, we should replace the cooling system\n"
     ]
    }
   ],
   "source": [
    "# Condition 1 (The temperature is greater than 70ºC during more than 4 consecutive hours.)\n",
    "print('Condition 1 met? False')\n",
    "\n",
    "# Condition 2 (Any temperature is above 80ºC.)\n",
    "print('Condition 2 met?', condition_2)\n",
    "\n",
    "# Condition 3 (The average temperature exceeds 65ºC.)\n",
    "print('Condition 3 met?', condition_3)\n",
    "\n",
    "# Decision\n",
    "print('Decision: Since two of the three conditions were not ' \n",
    "      'met, we should replace the cooling system')"
   ]
  },
  {
   "cell_type": "markdown",
   "metadata": {},
   "source": [
    "#### 4. Find the average value of the temperature lists (ºC and ºF). What is the relation between both average values?"
   ]
  },
  {
   "cell_type": "code",
   "execution_count": 47,
   "metadata": {},
   "outputs": [
    {
     "name": "stdout",
     "output_type": "stream",
     "text": [
      "Celsius average: 62.833333333333336\n",
      "Farenheit average: 145.04166666666666\n",
      "145.10000000000002\n"
     ]
    }
   ],
   "source": [
    "#Celsius average\n",
    "avg_c = sum(temperatures_C) / len(temperatures_C)\n",
    "print('Celsius average:', avg_c)\n",
    "\n",
    "#Fahrenheit average\n",
    "avg_f = sum(temperatures_F) / len(temperatures_F)\n",
    "print('Farenheit average:', avg_f)\n",
    "\n",
    "#Relation\n",
    "c_to_f = 1.8*avg_c+32\n",
    "print(c_to_f)"
   ]
  },
  {
   "cell_type": "markdown",
   "metadata": {},
   "source": [
    "#### 5. Find the standard deviation of the temperature lists (ºC and ºF). What is the relation between both standard deviations?"
   ]
  },
  {
   "cell_type": "code",
   "execution_count": 45,
   "metadata": {},
   "outputs": [
    {
     "name": "stdout",
     "output_type": "stream",
     "text": [
      "Celsius: 14.633485192833897\n",
      "Farenheit: 26.422022327764562\n"
     ]
    }
   ],
   "source": [
    "#Calculate variance of Celsius\n",
    "squared_c = []\n",
    "\n",
    "for temp in temperatures_C:\n",
    "        number = (temp - avg_c)**2\n",
    "        squared_c.append(number)\n",
    "        \n",
    "variance_c = sum(squared_c)/len(squared_c)\n",
    "\n",
    "#Calculate standard deviation of Celsius\n",
    "standard_deviation_c = variance_c**(1/2)\n",
    "print('Celsius:', standard_deviation_c)\n",
    "\n",
    "#Calculate variance of Farenheit\n",
    "squared_f = []\n",
    "\n",
    "for temp in temperatures_F:\n",
    "        number = (temp - avg_f)**2\n",
    "        squared_f.append(number)\n",
    "        \n",
    "variance_f = sum(squared_f)/len(squared_f)\n",
    "\n",
    "#Calculate standard deviation of Farenheit\n",
    "standard_deviation_f = variance_f**(1/2)\n",
    "print('Farenheit:', standard_deviation_f)"
   ]
  }
 ],
 "metadata": {
  "kernelspec": {
   "display_name": "Python 3",
   "language": "python",
   "name": "python3"
  },
  "language_info": {
   "codemirror_mode": {
    "name": "ipython",
    "version": 3
   },
   "file_extension": ".py",
   "mimetype": "text/x-python",
   "name": "python",
   "nbconvert_exporter": "python",
   "pygments_lexer": "ipython3",
   "version": "3.8.3"
  }
 },
 "nbformat": 4,
 "nbformat_minor": 2
}
